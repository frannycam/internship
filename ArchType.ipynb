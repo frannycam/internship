{
 "cells": [
  {
   "cell_type": "code",
   "execution_count": 2,
   "metadata": {},
   "outputs": [
    {
     "ename": "IndentationError",
     "evalue": "unexpected indent (<ipython-input-2-3470767caafb>, line 19)",
     "output_type": "error",
     "traceback": [
      "\u001b[1;36m  File \u001b[1;32m\"<ipython-input-2-3470767caafb>\"\u001b[1;36m, line \u001b[1;32m19\u001b[0m\n\u001b[1;33m    print(GENDER)\u001b[0m\n\u001b[1;37m    ^\u001b[0m\n\u001b[1;31mIndentationError\u001b[0m\u001b[1;31m:\u001b[0m unexpected indent\n"
     ]
    }
   ],
   "source": [
    "import pandas as pd \n",
    "import numpy as np\n",
    "import math\n",
    "import xlrd\n",
    "import csv\n",
    "from scipy import stats\n",
    "\n",
    "df = pd.read_csv('original.csv')\n",
    "US_Sizes = [5,5.5,6,6.5,7,7.5,8,8.5,9,9.5,10,10.5,11,11.5,12,12.5,13,13.5,14]\n",
    "\n",
    "def main():\n",
    "    zScoreR=[]\n",
    "    zScoreL=[]\n",
    "    percentileR=[]\n",
    "    percentileL=[]\n",
    "    corrected_archTypeR=[]\n",
    "    corrected_archTypeL=[]\n",
    "    GENDER = df['Gender']\n",
    "    SIZE=df['ShoeSize_us']\n",
    "     print(GENDER)\n",
    "#     print(SIZE)\n",
    "    for i in range(len(GENDER)):\n",
    "        gender=str(GENDER[i])  \n",
    "        size=SIZE[i]     \n",
    "        arch_meanStdDev(gender,size, i)\n",
    "# df['ZscoreLeft'] = array\n",
    "\n",
    "def arch_meanStdDev(gender,size,i):\n",
    "    arch_data_R =[] #new array\n",
    "    arch_data_L =[]\n",
    "    total_data=[]\n",
    "    RightArch = df['RightArchHeightMm']\n",
    "    LeftArch = df['LeftArchHeightMm']\n",
    "    Gender_and_Size =df.set_index(['Gender', 'ShoeSize_us'])\n",
    "    if size in US_Sizes:\n",
    "        if gender ==\"Female\" or gender==\"Male\":\n",
    "            onlysize_data = Gender_and_Size.loc[gender, str(size)] \n",
    "            arch_data_R = onlysize_data['RightArchHeightMm'] \n",
    "            arch_data_L = onlysize_data['LeftArchHeightMm']\n",
    "            total_data = pd.concat([arch_data_L, arch_data_R])\n",
    "            means=np.mean(total_data)\n",
    "            n=len(total_data)\n",
    "            std_dev=np.std(total_data)  \n",
    "            x=arch_data_R[i]\n",
    "            zScore=(x-means)/std_dev\n",
    "            zScoreR.append(zScore)\n",
    "            percentile=(.5 * (math.erf(zScore / 2 ** .5) + 1))*100\n",
    "            percentileR.append(percentile)\n",
    "            archtype=arch_Type(percentile)\n",
    "            corrected_archTypeR.append(archtype)\n",
    "            x=arch_data_L[i]\n",
    "            zScore=(x-means)/std_dev\n",
    "            zScoreL.append(zScore)\n",
    "            percentile=(.5 * (math.erf(zScore / 2 ** .5) + 1))*100\n",
    "            percentileL.append(percentile)\n",
    "            archtype=arch_Type(percentile)\n",
    "            corrected_archTypeL.append(archtype)\n",
    "            arch_data_R =[] #new array\n",
    "            arch_data_L =[]\n",
    "            print(zScor)\n",
    "\n",
    "def arch_Type(percentile): \n",
    "    if percentile<20.00:\n",
    "        return 'low'\n",
    "    elif percentile>20.0 and percentile<80.00:\n",
    "        return 'medium'\n",
    "    elif percentile>80.00:\n",
    "        return'high'            \n",
    "\n",
    "\n",
    "main()\n",
    "#arch_meanStdDev(\"Female\", 14, 3)"
   ]
  },
  {
   "cell_type": "code",
   "execution_count": null,
   "metadata": {},
   "outputs": [],
   "source": []
  }
 ],
 "metadata": {
  "kernelspec": {
   "display_name": "Python 3",
   "language": "python",
   "name": "python3"
  },
  "language_info": {
   "codemirror_mode": {
    "name": "ipython",
    "version": 3
   },
   "file_extension": ".py",
   "mimetype": "text/x-python",
   "name": "python",
   "nbconvert_exporter": "python",
   "pygments_lexer": "ipython3",
   "version": "3.7.0"
  }
 },
 "nbformat": 4,
 "nbformat_minor": 2
}
